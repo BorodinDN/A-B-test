{
 "cells": [
  {
   "cell_type": "code",
   "execution_count": 1,
   "id": "f041c792",
   "metadata": {},
   "outputs": [],
   "source": [
    "import pandas as pd\n",
    "import numpy as np\n",
    "from scipy import stats as st\n",
    "import plotly.express as px\n",
    "import matplotlib.pyplot as plt\n",
    "from plotly.subplots import make_subplots\n",
    "from plotly import graph_objects as go\n",
    "import math as mth\n",
    "import seaborn as sns"
   ]
  },
  {
   "cell_type": "code",
   "execution_count": 2,
   "id": "3d335529",
   "metadata": {},
   "outputs": [],
   "source": [
    "try:    \n",
    "    marketing_events = pd.read_csv('C:/Anaconda/Practicum/1 - ab_project_marketing_events.csv')\n",
    "    events = pd.read_csv(\"C:/Anaconda/Practicum/1 - final_ab_events.csv\")\n",
    "    new_users = pd.read_csv(\"C:/Anaconda/Practicum/1 - final_ab_new_users.csv\")\n",
    "    participants = pd.read_csv(\"C:/Anaconda/Practicum/1 - final_ab_participants.csv\")\n",
    "except:\n",
    "    marketing_events = pd.read_csv('https://code.s3.yandex.net/datasets/ab_project_marketing_events.csv')\n",
    "    events = pd.read_csv('https://code.s3.yandex.net/datasets/final_ab_events.csv')\n",
    "    new_users = pd.read_csv('https://code.s3.yandex.net/datasets/final_ab_new_users.csv')\n",
    "    participants = pd.read_csv('https://code.s3.yandex.net/datasets/final_ab_participants.csv')"
   ]
  },
  {
   "cell_type": "markdown",
   "id": "5d4310d6",
   "metadata": {},
   "source": [
    "Целью данного исследования является проверка эффективности новой рекомендательной системы при помощи а/в теста.\n",
    "<br>\n",
    "По сравнению с контрольной группой, предполагается обнаружить разницу в:\n",
    "- конверсии в просмотр карточек товаров\n",
    "- просмотры корзины\n",
    "- покупки"
   ]
  },
  {
   "cell_type": "markdown",
   "id": "7f25085f",
   "metadata": {},
   "source": [
    "Предобработка\n",
    "---"
   ]
  },
  {
   "cell_type": "code",
   "execution_count": 3,
   "id": "c3b735d2",
   "metadata": {},
   "outputs": [
    {
     "name": "stdout",
     "output_type": "stream",
     "text": [
      "<class 'pandas.core.frame.DataFrame'>\n",
      "RangeIndex: 14 entries, 0 to 13\n",
      "Data columns (total 4 columns):\n",
      " #   Column     Non-Null Count  Dtype \n",
      "---  ------     --------------  ----- \n",
      " 0   name       14 non-null     object\n",
      " 1   regions    14 non-null     object\n",
      " 2   start_dt   14 non-null     object\n",
      " 3   finish_dt  14 non-null     object\n",
      "dtypes: object(4)\n",
      "memory usage: 576.0+ bytes\n"
     ]
    }
   ],
   "source": [
    "marketing_events.info()"
   ]
  },
  {
   "cell_type": "code",
   "execution_count": 4,
   "id": "8cb08be3",
   "metadata": {},
   "outputs": [
    {
     "data": {
      "text/html": [
       "<div>\n",
       "<style scoped>\n",
       "    .dataframe tbody tr th:only-of-type {\n",
       "        vertical-align: middle;\n",
       "    }\n",
       "\n",
       "    .dataframe tbody tr th {\n",
       "        vertical-align: top;\n",
       "    }\n",
       "\n",
       "    .dataframe thead th {\n",
       "        text-align: right;\n",
       "    }\n",
       "</style>\n",
       "<table border=\"1\" class=\"dataframe\">\n",
       "  <thead>\n",
       "    <tr style=\"text-align: right;\">\n",
       "      <th></th>\n",
       "      <th>name</th>\n",
       "      <th>regions</th>\n",
       "      <th>start_dt</th>\n",
       "      <th>finish_dt</th>\n",
       "    </tr>\n",
       "  </thead>\n",
       "  <tbody>\n",
       "    <tr>\n",
       "      <th>0</th>\n",
       "      <td>Christmas&amp;New Year Promo</td>\n",
       "      <td>EU, N.America</td>\n",
       "      <td>2020-12-25</td>\n",
       "      <td>2021-01-03</td>\n",
       "    </tr>\n",
       "    <tr>\n",
       "      <th>1</th>\n",
       "      <td>St. Valentine's Day Giveaway</td>\n",
       "      <td>EU, CIS, APAC, N.America</td>\n",
       "      <td>2020-02-14</td>\n",
       "      <td>2020-02-16</td>\n",
       "    </tr>\n",
       "    <tr>\n",
       "      <th>2</th>\n",
       "      <td>St. Patric's Day Promo</td>\n",
       "      <td>EU, N.America</td>\n",
       "      <td>2020-03-17</td>\n",
       "      <td>2020-03-19</td>\n",
       "    </tr>\n",
       "    <tr>\n",
       "      <th>3</th>\n",
       "      <td>Easter Promo</td>\n",
       "      <td>EU, CIS, APAC, N.America</td>\n",
       "      <td>2020-04-12</td>\n",
       "      <td>2020-04-19</td>\n",
       "    </tr>\n",
       "    <tr>\n",
       "      <th>4</th>\n",
       "      <td>4th of July Promo</td>\n",
       "      <td>N.America</td>\n",
       "      <td>2020-07-04</td>\n",
       "      <td>2020-07-11</td>\n",
       "    </tr>\n",
       "    <tr>\n",
       "      <th>5</th>\n",
       "      <td>Black Friday Ads Campaign</td>\n",
       "      <td>EU, CIS, APAC, N.America</td>\n",
       "      <td>2020-11-26</td>\n",
       "      <td>2020-12-01</td>\n",
       "    </tr>\n",
       "    <tr>\n",
       "      <th>6</th>\n",
       "      <td>Chinese New Year Promo</td>\n",
       "      <td>APAC</td>\n",
       "      <td>2020-01-25</td>\n",
       "      <td>2020-02-07</td>\n",
       "    </tr>\n",
       "    <tr>\n",
       "      <th>7</th>\n",
       "      <td>Labor day (May 1st) Ads Campaign</td>\n",
       "      <td>EU, CIS, APAC</td>\n",
       "      <td>2020-05-01</td>\n",
       "      <td>2020-05-03</td>\n",
       "    </tr>\n",
       "    <tr>\n",
       "      <th>8</th>\n",
       "      <td>International Women's Day Promo</td>\n",
       "      <td>EU, CIS, APAC</td>\n",
       "      <td>2020-03-08</td>\n",
       "      <td>2020-03-10</td>\n",
       "    </tr>\n",
       "    <tr>\n",
       "      <th>9</th>\n",
       "      <td>Victory Day CIS (May 9th) Event</td>\n",
       "      <td>CIS</td>\n",
       "      <td>2020-05-09</td>\n",
       "      <td>2020-05-11</td>\n",
       "    </tr>\n",
       "    <tr>\n",
       "      <th>10</th>\n",
       "      <td>CIS New Year Gift Lottery</td>\n",
       "      <td>CIS</td>\n",
       "      <td>2020-12-30</td>\n",
       "      <td>2021-01-07</td>\n",
       "    </tr>\n",
       "    <tr>\n",
       "      <th>11</th>\n",
       "      <td>Dragon Boat Festival Giveaway</td>\n",
       "      <td>APAC</td>\n",
       "      <td>2020-06-25</td>\n",
       "      <td>2020-07-01</td>\n",
       "    </tr>\n",
       "    <tr>\n",
       "      <th>12</th>\n",
       "      <td>Single's Day Gift Promo</td>\n",
       "      <td>APAC</td>\n",
       "      <td>2020-11-11</td>\n",
       "      <td>2020-11-12</td>\n",
       "    </tr>\n",
       "    <tr>\n",
       "      <th>13</th>\n",
       "      <td>Chinese Moon Festival</td>\n",
       "      <td>APAC</td>\n",
       "      <td>2020-10-01</td>\n",
       "      <td>2020-10-07</td>\n",
       "    </tr>\n",
       "  </tbody>\n",
       "</table>\n",
       "</div>"
      ],
      "text/plain": [
       "                                name                   regions    start_dt  \\\n",
       "0           Christmas&New Year Promo             EU, N.America  2020-12-25   \n",
       "1       St. Valentine's Day Giveaway  EU, CIS, APAC, N.America  2020-02-14   \n",
       "2             St. Patric's Day Promo             EU, N.America  2020-03-17   \n",
       "3                       Easter Promo  EU, CIS, APAC, N.America  2020-04-12   \n",
       "4                  4th of July Promo                 N.America  2020-07-04   \n",
       "5          Black Friday Ads Campaign  EU, CIS, APAC, N.America  2020-11-26   \n",
       "6             Chinese New Year Promo                      APAC  2020-01-25   \n",
       "7   Labor day (May 1st) Ads Campaign             EU, CIS, APAC  2020-05-01   \n",
       "8    International Women's Day Promo             EU, CIS, APAC  2020-03-08   \n",
       "9    Victory Day CIS (May 9th) Event                       CIS  2020-05-09   \n",
       "10         CIS New Year Gift Lottery                       CIS  2020-12-30   \n",
       "11     Dragon Boat Festival Giveaway                      APAC  2020-06-25   \n",
       "12           Single's Day Gift Promo                      APAC  2020-11-11   \n",
       "13             Chinese Moon Festival                      APAC  2020-10-01   \n",
       "\n",
       "     finish_dt  \n",
       "0   2021-01-03  \n",
       "1   2020-02-16  \n",
       "2   2020-03-19  \n",
       "3   2020-04-19  \n",
       "4   2020-07-11  \n",
       "5   2020-12-01  \n",
       "6   2020-02-07  \n",
       "7   2020-05-03  \n",
       "8   2020-03-10  \n",
       "9   2020-05-11  \n",
       "10  2021-01-07  \n",
       "11  2020-07-01  \n",
       "12  2020-11-12  \n",
       "13  2020-10-07  "
      ]
     },
     "execution_count": 4,
     "metadata": {},
     "output_type": "execute_result"
    }
   ],
   "source": [
    "marketing_events"
   ]
  },
  {
   "cell_type": "markdown",
   "id": "2f21fa38",
   "metadata": {},
   "source": [
    "Тип данных в столбцах с датами начала и окончания событий можно перевести в datetime"
   ]
  },
  {
   "cell_type": "code",
   "execution_count": 5,
   "id": "aea9f6ae",
   "metadata": {},
   "outputs": [],
   "source": [
    "marketing_events[['start_dt', 'finish_dt']] = marketing_events[['start_dt', 'finish_dt']].apply(pd.to_datetime)"
   ]
  },
  {
   "cell_type": "code",
   "execution_count": 6,
   "id": "01a67897",
   "metadata": {},
   "outputs": [
    {
     "name": "stdout",
     "output_type": "stream",
     "text": [
      "<class 'pandas.core.frame.DataFrame'>\n",
      "RangeIndex: 440317 entries, 0 to 440316\n",
      "Data columns (total 4 columns):\n",
      " #   Column      Non-Null Count   Dtype  \n",
      "---  ------      --------------   -----  \n",
      " 0   user_id     440317 non-null  object \n",
      " 1   event_dt    440317 non-null  object \n",
      " 2   event_name  440317 non-null  object \n",
      " 3   details     62740 non-null   float64\n",
      "dtypes: float64(1), object(3)\n",
      "memory usage: 13.4+ MB\n"
     ]
    }
   ],
   "source": [
    "events.info()"
   ]
  },
  {
   "cell_type": "code",
   "execution_count": 7,
   "id": "eae4c053",
   "metadata": {},
   "outputs": [
    {
     "data": {
      "text/html": [
       "<div>\n",
       "<style scoped>\n",
       "    .dataframe tbody tr th:only-of-type {\n",
       "        vertical-align: middle;\n",
       "    }\n",
       "\n",
       "    .dataframe tbody tr th {\n",
       "        vertical-align: top;\n",
       "    }\n",
       "\n",
       "    .dataframe thead th {\n",
       "        text-align: right;\n",
       "    }\n",
       "</style>\n",
       "<table border=\"1\" class=\"dataframe\">\n",
       "  <thead>\n",
       "    <tr style=\"text-align: right;\">\n",
       "      <th></th>\n",
       "      <th>user_id</th>\n",
       "      <th>event_dt</th>\n",
       "      <th>event_name</th>\n",
       "      <th>details</th>\n",
       "    </tr>\n",
       "  </thead>\n",
       "  <tbody>\n",
       "    <tr>\n",
       "      <th>270925</th>\n",
       "      <td>BDC3918961E7862C</td>\n",
       "      <td>2020-12-10 09:46:46</td>\n",
       "      <td>login</td>\n",
       "      <td>NaN</td>\n",
       "    </tr>\n",
       "    <tr>\n",
       "      <th>49778</th>\n",
       "      <td>13E70ACD1CCD6159</td>\n",
       "      <td>2020-12-23 13:26:29</td>\n",
       "      <td>purchase</td>\n",
       "      <td>9.99</td>\n",
       "    </tr>\n",
       "    <tr>\n",
       "      <th>178915</th>\n",
       "      <td>72BF867AFBD6299D</td>\n",
       "      <td>2020-12-17 11:54:56</td>\n",
       "      <td>product_page</td>\n",
       "      <td>NaN</td>\n",
       "    </tr>\n",
       "    <tr>\n",
       "      <th>167122</th>\n",
       "      <td>09BE04C96D815631</td>\n",
       "      <td>2020-12-15 23:39:51</td>\n",
       "      <td>product_page</td>\n",
       "      <td>NaN</td>\n",
       "    </tr>\n",
       "    <tr>\n",
       "      <th>231554</th>\n",
       "      <td>AA9A5138437D6A6F</td>\n",
       "      <td>2020-12-24 17:03:29</td>\n",
       "      <td>product_page</td>\n",
       "      <td>NaN</td>\n",
       "    </tr>\n",
       "    <tr>\n",
       "      <th>27152</th>\n",
       "      <td>4739F6BC6B18AAB4</td>\n",
       "      <td>2020-12-17 18:31:20</td>\n",
       "      <td>purchase</td>\n",
       "      <td>4.99</td>\n",
       "    </tr>\n",
       "    <tr>\n",
       "      <th>89436</th>\n",
       "      <td>E67541944D26ED2D</td>\n",
       "      <td>2020-12-17 18:22:23</td>\n",
       "      <td>product_cart</td>\n",
       "      <td>NaN</td>\n",
       "    </tr>\n",
       "    <tr>\n",
       "      <th>148413</th>\n",
       "      <td>9D561774B92F52F8</td>\n",
       "      <td>2020-12-12 15:12:59</td>\n",
       "      <td>product_page</td>\n",
       "      <td>NaN</td>\n",
       "    </tr>\n",
       "    <tr>\n",
       "      <th>276982</th>\n",
       "      <td>2F01334D18D17AB3</td>\n",
       "      <td>2020-12-11 14:38:03</td>\n",
       "      <td>login</td>\n",
       "      <td>NaN</td>\n",
       "    </tr>\n",
       "    <tr>\n",
       "      <th>193578</th>\n",
       "      <td>AE7A08D166A2EB08</td>\n",
       "      <td>2020-12-19 03:53:17</td>\n",
       "      <td>product_page</td>\n",
       "      <td>NaN</td>\n",
       "    </tr>\n",
       "  </tbody>\n",
       "</table>\n",
       "</div>"
      ],
      "text/plain": [
       "                 user_id             event_dt    event_name  details\n",
       "270925  BDC3918961E7862C  2020-12-10 09:46:46         login      NaN\n",
       "49778   13E70ACD1CCD6159  2020-12-23 13:26:29      purchase     9.99\n",
       "178915  72BF867AFBD6299D  2020-12-17 11:54:56  product_page      NaN\n",
       "167122  09BE04C96D815631  2020-12-15 23:39:51  product_page      NaN\n",
       "231554  AA9A5138437D6A6F  2020-12-24 17:03:29  product_page      NaN\n",
       "27152   4739F6BC6B18AAB4  2020-12-17 18:31:20      purchase     4.99\n",
       "89436   E67541944D26ED2D  2020-12-17 18:22:23  product_cart      NaN\n",
       "148413  9D561774B92F52F8  2020-12-12 15:12:59  product_page      NaN\n",
       "276982  2F01334D18D17AB3  2020-12-11 14:38:03         login      NaN\n",
       "193578  AE7A08D166A2EB08  2020-12-19 03:53:17  product_page      NaN"
      ]
     },
     "execution_count": 7,
     "metadata": {},
     "output_type": "execute_result"
    }
   ],
   "source": [
    "events.sample(10)"
   ]
  },
  {
   "cell_type": "code",
   "execution_count": 8,
   "id": "4daa40e7",
   "metadata": {},
   "outputs": [
    {
     "data": {
      "text/plain": [
       "0"
      ]
     },
     "execution_count": 8,
     "metadata": {},
     "output_type": "execute_result"
    }
   ],
   "source": [
    "events.duplicated().sum()"
   ]
  },
  {
   "cell_type": "code",
   "execution_count": 9,
   "id": "7fabdd99",
   "metadata": {},
   "outputs": [
    {
     "data": {
      "text/html": [
       "<div>\n",
       "<style scoped>\n",
       "    .dataframe tbody tr th:only-of-type {\n",
       "        vertical-align: middle;\n",
       "    }\n",
       "\n",
       "    .dataframe tbody tr th {\n",
       "        vertical-align: top;\n",
       "    }\n",
       "\n",
       "    .dataframe thead th {\n",
       "        text-align: right;\n",
       "    }\n",
       "</style>\n",
       "<table border=\"1\" class=\"dataframe\">\n",
       "  <thead>\n",
       "    <tr style=\"text-align: right;\">\n",
       "      <th></th>\n",
       "      <th>details</th>\n",
       "    </tr>\n",
       "    <tr>\n",
       "      <th>event_name</th>\n",
       "      <th></th>\n",
       "    </tr>\n",
       "  </thead>\n",
       "  <tbody>\n",
       "    <tr>\n",
       "      <th>login</th>\n",
       "      <td>[nan]</td>\n",
       "    </tr>\n",
       "    <tr>\n",
       "      <th>product_cart</th>\n",
       "      <td>[nan]</td>\n",
       "    </tr>\n",
       "    <tr>\n",
       "      <th>product_page</th>\n",
       "      <td>[nan]</td>\n",
       "    </tr>\n",
       "    <tr>\n",
       "      <th>purchase</th>\n",
       "      <td>[99.99, 9.99, 4.99, 499.99]</td>\n",
       "    </tr>\n",
       "  </tbody>\n",
       "</table>\n",
       "</div>"
      ],
      "text/plain": [
       "                                  details\n",
       "event_name                               \n",
       "login                               [nan]\n",
       "product_cart                        [nan]\n",
       "product_page                        [nan]\n",
       "purchase      [99.99, 9.99, 4.99, 499.99]"
      ]
     },
     "execution_count": 9,
     "metadata": {},
     "output_type": "execute_result"
    }
   ],
   "source": [
    "events.groupby('event_name').agg({'details':'unique'})"
   ]
  },
  {
   "cell_type": "markdown",
   "id": "fa1635f6",
   "metadata": {},
   "source": [
    "В столбце 'details' присутствует информация только при событии 'purchase', в остальных случаях там пропуск. Столбец с датами также следует перевести в datetime"
   ]
  },
  {
   "cell_type": "code",
   "execution_count": 10,
   "id": "c43a691a",
   "metadata": {},
   "outputs": [],
   "source": [
    "events['event_dt'] = pd.to_datetime(events['event_dt'])"
   ]
  },
  {
   "cell_type": "code",
   "execution_count": 11,
   "id": "b1d6188c",
   "metadata": {},
   "outputs": [
    {
     "name": "stdout",
     "output_type": "stream",
     "text": [
      "<class 'pandas.core.frame.DataFrame'>\n",
      "RangeIndex: 61733 entries, 0 to 61732\n",
      "Data columns (total 4 columns):\n",
      " #   Column      Non-Null Count  Dtype \n",
      "---  ------      --------------  ----- \n",
      " 0   user_id     61733 non-null  object\n",
      " 1   first_date  61733 non-null  object\n",
      " 2   region      61733 non-null  object\n",
      " 3   device      61733 non-null  object\n",
      "dtypes: object(4)\n",
      "memory usage: 1.9+ MB\n"
     ]
    }
   ],
   "source": [
    "new_users.info()"
   ]
  },
  {
   "cell_type": "code",
   "execution_count": 12,
   "id": "28651b9c",
   "metadata": {},
   "outputs": [
    {
     "data": {
      "text/html": [
       "<div>\n",
       "<style scoped>\n",
       "    .dataframe tbody tr th:only-of-type {\n",
       "        vertical-align: middle;\n",
       "    }\n",
       "\n",
       "    .dataframe tbody tr th {\n",
       "        vertical-align: top;\n",
       "    }\n",
       "\n",
       "    .dataframe thead th {\n",
       "        text-align: right;\n",
       "    }\n",
       "</style>\n",
       "<table border=\"1\" class=\"dataframe\">\n",
       "  <thead>\n",
       "    <tr style=\"text-align: right;\">\n",
       "      <th></th>\n",
       "      <th>user_id</th>\n",
       "      <th>first_date</th>\n",
       "      <th>region</th>\n",
       "      <th>device</th>\n",
       "    </tr>\n",
       "  </thead>\n",
       "  <tbody>\n",
       "    <tr>\n",
       "      <th>20859</th>\n",
       "      <td>24B6F362D9F33F3D</td>\n",
       "      <td>2020-12-15</td>\n",
       "      <td>N.America</td>\n",
       "      <td>iPhone</td>\n",
       "    </tr>\n",
       "    <tr>\n",
       "      <th>25797</th>\n",
       "      <td>3805EB44C7D631A7</td>\n",
       "      <td>2020-12-22</td>\n",
       "      <td>EU</td>\n",
       "      <td>Android</td>\n",
       "    </tr>\n",
       "    <tr>\n",
       "      <th>22960</th>\n",
       "      <td>B491A40E527EFBE2</td>\n",
       "      <td>2020-12-15</td>\n",
       "      <td>EU</td>\n",
       "      <td>PC</td>\n",
       "    </tr>\n",
       "    <tr>\n",
       "      <th>58008</th>\n",
       "      <td>CC08DF2D2ECFEC7B</td>\n",
       "      <td>2020-12-20</td>\n",
       "      <td>EU</td>\n",
       "      <td>iPhone</td>\n",
       "    </tr>\n",
       "    <tr>\n",
       "      <th>17632</th>\n",
       "      <td>45BD2F4A818E0441</td>\n",
       "      <td>2020-12-08</td>\n",
       "      <td>EU</td>\n",
       "      <td>Android</td>\n",
       "    </tr>\n",
       "    <tr>\n",
       "      <th>53466</th>\n",
       "      <td>7AA9F4F7F325904A</td>\n",
       "      <td>2020-12-13</td>\n",
       "      <td>N.America</td>\n",
       "      <td>Android</td>\n",
       "    </tr>\n",
       "    <tr>\n",
       "      <th>54540</th>\n",
       "      <td>EA91EC51204594F6</td>\n",
       "      <td>2020-12-13</td>\n",
       "      <td>EU</td>\n",
       "      <td>Android</td>\n",
       "    </tr>\n",
       "    <tr>\n",
       "      <th>17003</th>\n",
       "      <td>9FEB56D93EE0955E</td>\n",
       "      <td>2020-12-21</td>\n",
       "      <td>EU</td>\n",
       "      <td>PC</td>\n",
       "    </tr>\n",
       "    <tr>\n",
       "      <th>40739</th>\n",
       "      <td>98D699A0422667FA</td>\n",
       "      <td>2020-12-11</td>\n",
       "      <td>EU</td>\n",
       "      <td>Mac</td>\n",
       "    </tr>\n",
       "    <tr>\n",
       "      <th>45262</th>\n",
       "      <td>7E5636353A80A358</td>\n",
       "      <td>2020-12-12</td>\n",
       "      <td>EU</td>\n",
       "      <td>iPhone</td>\n",
       "    </tr>\n",
       "  </tbody>\n",
       "</table>\n",
       "</div>"
      ],
      "text/plain": [
       "                user_id  first_date     region   device\n",
       "20859  24B6F362D9F33F3D  2020-12-15  N.America   iPhone\n",
       "25797  3805EB44C7D631A7  2020-12-22         EU  Android\n",
       "22960  B491A40E527EFBE2  2020-12-15         EU       PC\n",
       "58008  CC08DF2D2ECFEC7B  2020-12-20         EU   iPhone\n",
       "17632  45BD2F4A818E0441  2020-12-08         EU  Android\n",
       "53466  7AA9F4F7F325904A  2020-12-13  N.America  Android\n",
       "54540  EA91EC51204594F6  2020-12-13         EU  Android\n",
       "17003  9FEB56D93EE0955E  2020-12-21         EU       PC\n",
       "40739  98D699A0422667FA  2020-12-11         EU      Mac\n",
       "45262  7E5636353A80A358  2020-12-12         EU   iPhone"
      ]
     },
     "execution_count": 12,
     "metadata": {},
     "output_type": "execute_result"
    }
   ],
   "source": [
    "new_users.sample(10)"
   ]
  },
  {
   "cell_type": "code",
   "execution_count": 13,
   "id": "8e4ef514",
   "metadata": {},
   "outputs": [
    {
     "data": {
      "text/plain": [
       "0"
      ]
     },
     "execution_count": 13,
     "metadata": {},
     "output_type": "execute_result"
    }
   ],
   "source": [
    "new_users.duplicated().sum()"
   ]
  },
  {
   "cell_type": "code",
   "execution_count": 14,
   "id": "553c251c",
   "metadata": {},
   "outputs": [],
   "source": [
    "new_users['first_date'] = pd.to_datetime(new_users['first_date'])"
   ]
  },
  {
   "cell_type": "code",
   "execution_count": 15,
   "id": "70809d1b",
   "metadata": {},
   "outputs": [
    {
     "name": "stdout",
     "output_type": "stream",
     "text": [
      "<class 'pandas.core.frame.DataFrame'>\n",
      "RangeIndex: 18268 entries, 0 to 18267\n",
      "Data columns (total 3 columns):\n",
      " #   Column   Non-Null Count  Dtype \n",
      "---  ------   --------------  ----- \n",
      " 0   user_id  18268 non-null  object\n",
      " 1   group    18268 non-null  object\n",
      " 2   ab_test  18268 non-null  object\n",
      "dtypes: object(3)\n",
      "memory usage: 428.3+ KB\n"
     ]
    }
   ],
   "source": [
    "participants.info()"
   ]
  },
  {
   "cell_type": "code",
   "execution_count": 16,
   "id": "caf850f3",
   "metadata": {},
   "outputs": [
    {
     "data": {
      "text/html": [
       "<div>\n",
       "<style scoped>\n",
       "    .dataframe tbody tr th:only-of-type {\n",
       "        vertical-align: middle;\n",
       "    }\n",
       "\n",
       "    .dataframe tbody tr th {\n",
       "        vertical-align: top;\n",
       "    }\n",
       "\n",
       "    .dataframe thead th {\n",
       "        text-align: right;\n",
       "    }\n",
       "</style>\n",
       "<table border=\"1\" class=\"dataframe\">\n",
       "  <thead>\n",
       "    <tr style=\"text-align: right;\">\n",
       "      <th></th>\n",
       "      <th>user_id</th>\n",
       "      <th>group</th>\n",
       "      <th>ab_test</th>\n",
       "    </tr>\n",
       "  </thead>\n",
       "  <tbody>\n",
       "    <tr>\n",
       "      <th>798</th>\n",
       "      <td>9CC7BABE25F1E408</td>\n",
       "      <td>A</td>\n",
       "      <td>recommender_system_test</td>\n",
       "    </tr>\n",
       "    <tr>\n",
       "      <th>2052</th>\n",
       "      <td>13316E208F8C037D</td>\n",
       "      <td>A</td>\n",
       "      <td>recommender_system_test</td>\n",
       "    </tr>\n",
       "    <tr>\n",
       "      <th>12587</th>\n",
       "      <td>4D0C0CFFC30F4A38</td>\n",
       "      <td>A</td>\n",
       "      <td>interface_eu_test</td>\n",
       "    </tr>\n",
       "    <tr>\n",
       "      <th>3257</th>\n",
       "      <td>A001715AEC2F18D3</td>\n",
       "      <td>A</td>\n",
       "      <td>recommender_system_test</td>\n",
       "    </tr>\n",
       "    <tr>\n",
       "      <th>16919</th>\n",
       "      <td>579BA7C34A2F6453</td>\n",
       "      <td>A</td>\n",
       "      <td>interface_eu_test</td>\n",
       "    </tr>\n",
       "    <tr>\n",
       "      <th>16182</th>\n",
       "      <td>17BFBC85ABF9AD27</td>\n",
       "      <td>B</td>\n",
       "      <td>interface_eu_test</td>\n",
       "    </tr>\n",
       "    <tr>\n",
       "      <th>15108</th>\n",
       "      <td>221DDCDA4ABEB260</td>\n",
       "      <td>A</td>\n",
       "      <td>interface_eu_test</td>\n",
       "    </tr>\n",
       "    <tr>\n",
       "      <th>3707</th>\n",
       "      <td>F9C3B261B20FEA4B</td>\n",
       "      <td>A</td>\n",
       "      <td>recommender_system_test</td>\n",
       "    </tr>\n",
       "    <tr>\n",
       "      <th>17894</th>\n",
       "      <td>8E7CAFA50BC60141</td>\n",
       "      <td>B</td>\n",
       "      <td>interface_eu_test</td>\n",
       "    </tr>\n",
       "    <tr>\n",
       "      <th>17861</th>\n",
       "      <td>F2E87DF1FE515061</td>\n",
       "      <td>A</td>\n",
       "      <td>interface_eu_test</td>\n",
       "    </tr>\n",
       "  </tbody>\n",
       "</table>\n",
       "</div>"
      ],
      "text/plain": [
       "                user_id group                  ab_test\n",
       "798    9CC7BABE25F1E408     A  recommender_system_test\n",
       "2052   13316E208F8C037D     A  recommender_system_test\n",
       "12587  4D0C0CFFC30F4A38     A        interface_eu_test\n",
       "3257   A001715AEC2F18D3     A  recommender_system_test\n",
       "16919  579BA7C34A2F6453     A        interface_eu_test\n",
       "16182  17BFBC85ABF9AD27     B        interface_eu_test\n",
       "15108  221DDCDA4ABEB260     A        interface_eu_test\n",
       "3707   F9C3B261B20FEA4B     A  recommender_system_test\n",
       "17894  8E7CAFA50BC60141     B        interface_eu_test\n",
       "17861  F2E87DF1FE515061     A        interface_eu_test"
      ]
     },
     "execution_count": 16,
     "metadata": {},
     "output_type": "execute_result"
    }
   ],
   "source": [
    "participants.sample(10)"
   ]
  },
  {
   "cell_type": "code",
   "execution_count": 17,
   "id": "35725d01",
   "metadata": {},
   "outputs": [
    {
     "data": {
      "text/plain": [
       "array(['recommender_system_test', 'interface_eu_test'], dtype=object)"
      ]
     },
     "execution_count": 17,
     "metadata": {},
     "output_type": "execute_result"
    }
   ],
   "source": [
    "participants['ab_test'].unique()"
   ]
  },
  {
   "cell_type": "code",
   "execution_count": 18,
   "id": "1b4d304c",
   "metadata": {},
   "outputs": [
    {
     "data": {
      "text/plain": [
       "0"
      ]
     },
     "execution_count": 18,
     "metadata": {},
     "output_type": "execute_result"
    }
   ],
   "source": [
    "participants.duplicated().sum()"
   ]
  },
  {
   "cell_type": "code",
   "execution_count": 19,
   "id": "240b5eab",
   "metadata": {},
   "outputs": [
    {
     "data": {
      "text/plain": [
       "1602"
      ]
     },
     "execution_count": 19,
     "metadata": {},
     "output_type": "execute_result"
    }
   ],
   "source": [
    "participants[['user_id']].duplicated().sum()"
   ]
  },
  {
   "cell_type": "markdown",
   "id": "88ed971b",
   "metadata": {},
   "source": [
    "Дубликаты в колонке 'user_id' этого датафрейма, очевидно, обусловлены пользователями, попавшими в оба теста"
   ]
  },
  {
   "cell_type": "markdown",
   "id": "fed5bc24",
   "metadata": {},
   "source": [
    "Оценка корректности проведения теста\n",
    "---"
   ]
  },
  {
   "cell_type": "markdown",
   "id": "8bb3e94e",
   "metadata": {},
   "source": [
    "- Посчитаем количество пользователей, попавших одновременно больше, чем в одну группу."
   ]
  },
  {
   "cell_type": "code",
   "execution_count": 20,
   "id": "7b5389cd",
   "metadata": {},
   "outputs": [
    {
     "data": {
      "text/plain": [
       "group    0.0\n",
       "dtype: float64"
      ]
     },
     "execution_count": 20,
     "metadata": {},
     "output_type": "execute_result"
    }
   ],
   "source": [
    "participants.groupby(['user_id', 'ab_test']).agg({'group':'count'}).query('group > 1').sum()"
   ]
  },
  {
   "cell_type": "markdown",
   "id": "9eb0452b",
   "metadata": {},
   "source": [
    "Пользователей, одновременно попавших в 2 группы одного теста, нет."
   ]
  },
  {
   "cell_type": "markdown",
   "id": "8e313e12",
   "metadata": {},
   "source": [
    "- Разделим пользователей на 2 группы по принадлежности к тестовым группам \"А\" и \"В\"."
   ]
  },
  {
   "cell_type": "code",
   "execution_count": 21,
   "id": "81f1f144",
   "metadata": {},
   "outputs": [],
   "source": [
    "exceptions = participants.query('ab_test == \"interface_eu_test\" and group == \"B\"')['user_id'].tolist()\n",
    "test_a = participants.query('ab_test == \"recommender_system_test\" and group == \"A\" and user_id not in @exceptions')\n",
    "test_b = participants.query('ab_test == \"recommender_system_test\" and group == \"B\" and user_id not in @exceptions')"
   ]
  },
  {
   "cell_type": "markdown",
   "id": "530b2f2b",
   "metadata": {},
   "source": [
    "- Проверим, к какому региону относятся пользователи."
   ]
  },
  {
   "cell_type": "code",
   "execution_count": 22,
   "id": "65b13af5",
   "metadata": {},
   "outputs": [
    {
     "data": {
      "text/plain": [
       "array(['EU', 'N.America', 'APAC', 'CIS'], dtype=object)"
      ]
     },
     "metadata": {},
     "output_type": "display_data"
    },
    {
     "data": {
      "text/plain": [
       "array(['EU', 'N.America', 'CIS', 'APAC'], dtype=object)"
      ]
     },
     "metadata": {},
     "output_type": "display_data"
    }
   ],
   "source": [
    "test_a = test_a.merge(new_users, left_on = 'user_id', right_on = 'user_id', how = 'left')\n",
    "test_b = test_b.merge(new_users, left_on = 'user_id', right_on = 'user_id', how = 'left')\n",
    "display(test_a['region'].unique())\n",
    "display(test_b['region'].unique())"
   ]
  },
  {
   "cell_type": "markdown",
   "id": "d0614029",
   "metadata": {},
   "source": [
    "В тест попали новые пользователи из всех регионов, хотя по заданию нас интересует только EU"
   ]
  },
  {
   "cell_type": "code",
   "execution_count": 23,
   "id": "0554053e",
   "metadata": {},
   "outputs": [],
   "source": [
    "test_a = test_a.query('region == \"EU\"')\n",
    "test_b = test_b.query('region == \"EU\"')"
   ]
  },
  {
   "cell_type": "markdown",
   "id": "7c32122f",
   "metadata": {},
   "source": [
    "Оставили только нужный регион."
   ]
  },
  {
   "cell_type": "code",
   "execution_count": 24,
   "id": "aeb91202",
   "metadata": {},
   "outputs": [
    {
     "name": "stdout",
     "output_type": "stream",
     "text": [
      "<class 'pandas.core.frame.DataFrame'>\n",
      "Int64Index: 3195 entries, 0 to 3194\n",
      "Data columns (total 6 columns):\n",
      " #   Column      Non-Null Count  Dtype         \n",
      "---  ------      --------------  -----         \n",
      " 0   user_id     3195 non-null   object        \n",
      " 1   group       3195 non-null   object        \n",
      " 2   ab_test     3195 non-null   object        \n",
      " 3   first_date  3195 non-null   datetime64[ns]\n",
      " 4   region      3195 non-null   object        \n",
      " 5   device      3195 non-null   object        \n",
      "dtypes: datetime64[ns](1), object(5)\n",
      "memory usage: 174.7+ KB\n"
     ]
    }
   ],
   "source": [
    "test_a.info()"
   ]
  },
  {
   "cell_type": "code",
   "execution_count": 25,
   "id": "81c10814",
   "metadata": {},
   "outputs": [
    {
     "name": "stdout",
     "output_type": "stream",
     "text": [
      "<class 'pandas.core.frame.DataFrame'>\n",
      "Int64Index: 2373 entries, 0 to 2372\n",
      "Data columns (total 6 columns):\n",
      " #   Column      Non-Null Count  Dtype         \n",
      "---  ------      --------------  -----         \n",
      " 0   user_id     2373 non-null   object        \n",
      " 1   group       2373 non-null   object        \n",
      " 2   ab_test     2373 non-null   object        \n",
      " 3   first_date  2373 non-null   datetime64[ns]\n",
      " 4   region      2373 non-null   object        \n",
      " 5   device      2373 non-null   object        \n",
      "dtypes: datetime64[ns](1), object(5)\n",
      "memory usage: 129.8+ KB\n"
     ]
    }
   ],
   "source": [
    "test_b.info()"
   ]
  },
  {
   "cell_type": "markdown",
   "id": "108a75a3",
   "metadata": {},
   "source": [
    "- Проверим долю новых пользователей, попавших в тест, а также их общее количество."
   ]
  },
  {
   "cell_type": "code",
   "execution_count": 26,
   "id": "6cf5950c",
   "metadata": {},
   "outputs": [
    {
     "data": {
      "text/plain": [
       "0.13150684931506848"
      ]
     },
     "execution_count": 26,
     "metadata": {},
     "output_type": "execute_result"
    }
   ],
   "source": [
    "(test_a['user_id'].nunique() + test_b['user_id'].nunique())/new_users[(new_users['first_date'] >= '2020-12-7')&\\\n",
    "        (new_users['first_date'] <= '2020-12-21')&(new_users['region'] == \"EU\")]['user_id'].nunique()"
   ]
  },
  {
   "cell_type": "code",
   "execution_count": 27,
   "id": "fed566b0",
   "metadata": {},
   "outputs": [
    {
     "data": {
      "text/plain": [
       "5568"
      ]
     },
     "execution_count": 27,
     "metadata": {},
     "output_type": "execute_result"
    }
   ],
   "source": [
    "test_a['user_id'].nunique() + test_b['user_id'].nunique()"
   ]
  },
  {
   "cell_type": "markdown",
   "id": "34f2eee4",
   "metadata": {},
   "source": [
    "В основную и контрольную группу теста попало чуть больше 13% новых пользователей исследуемого региона, что достаточно близко к заданной отметке в 15%.\n",
    "<br>\n",
    "Всего в тесте 5568 пользователей."
   ]
  },
  {
   "cell_type": "markdown",
   "id": "2bae0b57",
   "metadata": {},
   "source": [
    "Для анализа результатов теста нам подходят пользователи, попавшие только в исследуемый тест, а также те, кто попал в контрольную группу конкурирующего теста, так как на их поведение влияет только проверяемый параметр.\n",
    "<br>\n",
    "Суммарное количество пользователей, попавших в тест, довольно близко к рассчетному (почти 5600 при заданном значении 6000), но они неравномерно распределены с перевесом в сторону контрольной группы.\n",
    "<br>\n",
    "Также следует отметить, что часть времение тестирования пришлась на новогодние праздники и связанное с ними маркетинговое событие. Теоретически, его влияние на увеличение активности в обеих группах должно быть одинаковым."
   ]
  },
  {
   "cell_type": "markdown",
   "id": "fa184d54",
   "metadata": {},
   "source": [
    "Исследовательский анализ\n",
    "---"
   ]
  },
  {
   "cell_type": "markdown",
   "id": "30496cbd",
   "metadata": {},
   "source": [
    "Добавим к спискам пользователей, попавших в контрольные группы, информацию о событиях"
   ]
  },
  {
   "cell_type": "code",
   "execution_count": 28,
   "id": "03b8f5ad",
   "metadata": {},
   "outputs": [],
   "source": [
    "test_a = test_a[['user_id', 'first_date', 'device']].merge(events, left_on = 'user_id', right_on = 'user_id', how = 'left')\n",
    "test_b = test_b[['user_id', 'first_date', 'device']].merge(events, left_on = 'user_id', right_on = 'user_id', how = 'left')"
   ]
  },
  {
   "cell_type": "code",
   "execution_count": 29,
   "id": "8f31d05d",
   "metadata": {},
   "outputs": [
    {
     "name": "stdout",
     "output_type": "stream",
     "text": [
      "<class 'pandas.core.frame.DataFrame'>\n",
      "Int64Index: 17070 entries, 0 to 17069\n",
      "Data columns (total 6 columns):\n",
      " #   Column      Non-Null Count  Dtype         \n",
      "---  ------      --------------  -----         \n",
      " 0   user_id     17070 non-null  object        \n",
      " 1   first_date  17070 non-null  datetime64[ns]\n",
      " 2   device      17070 non-null  object        \n",
      " 3   event_dt    16154 non-null  datetime64[ns]\n",
      " 4   event_name  16154 non-null  object        \n",
      " 5   details     2240 non-null   float64       \n",
      "dtypes: datetime64[ns](2), float64(1), object(3)\n",
      "memory usage: 933.5+ KB\n"
     ]
    }
   ],
   "source": [
    "test_a.info()"
   ]
  },
  {
   "cell_type": "code",
   "execution_count": 30,
   "id": "68518405",
   "metadata": {},
   "outputs": [
    {
     "name": "stdout",
     "output_type": "stream",
     "text": [
      "<class 'pandas.core.frame.DataFrame'>\n",
      "Int64Index: 6012 entries, 0 to 6011\n",
      "Data columns (total 6 columns):\n",
      " #   Column      Non-Null Count  Dtype         \n",
      "---  ------      --------------  -----         \n",
      " 0   user_id     6012 non-null   object        \n",
      " 1   first_date  6012 non-null   datetime64[ns]\n",
      " 2   device      6012 non-null   object        \n",
      " 3   event_dt    4410 non-null   datetime64[ns]\n",
      " 4   event_name  4410 non-null   object        \n",
      " 5   details     564 non-null    float64       \n",
      "dtypes: datetime64[ns](2), float64(1), object(3)\n",
      "memory usage: 328.8+ KB\n"
     ]
    }
   ],
   "source": [
    "test_b.info()"
   ]
  },
  {
   "cell_type": "code",
   "execution_count": 31,
   "id": "d60f87bb",
   "metadata": {},
   "outputs": [
    {
     "data": {
      "text/plain": [
       "Timestamp('2020-12-29 23:38:29')"
      ]
     },
     "metadata": {},
     "output_type": "display_data"
    },
    {
     "data": {
      "text/plain": [
       "Timestamp('2020-12-30 12:42:57')"
      ]
     },
     "metadata": {},
     "output_type": "display_data"
    }
   ],
   "source": [
    "display(test_a['event_dt'].max())\n",
    "display(test_b['event_dt'].max())"
   ]
  },
  {
   "cell_type": "markdown",
   "id": "77612476",
   "metadata": {},
   "source": [
    "Дата последнего действия в каждой группе находится в пределах заданного интервала.\n",
    "<br>\n",
    "Следует помнить, что 25-го числа стартовал новогодний эвент, что могло повлиять на активность покупателей."
   ]
  },
  {
   "cell_type": "code",
   "execution_count": 32,
   "id": "369c08b3",
   "metadata": {},
   "outputs": [],
   "source": [
    "test_a['time_gap'] = (test_a['event_dt'] - test_a['first_date']).dt.days.fillna(0).astype(int)\n",
    "test_b['time_gap'] = (test_b['event_dt'] - test_b['first_date']).dt.days.fillna(0).astype(int)\n",
    "test_a = test_a.query('time_gap < 15')\n",
    "test_b = test_b.query('time_gap < 15')"
   ]
  },
  {
   "cell_type": "markdown",
   "id": "68fa35cb",
   "metadata": {},
   "source": [
    "Убрали из анализа действия, выполненные позднее 2-х недель после регистрации"
   ]
  },
  {
   "cell_type": "code",
   "execution_count": 33,
   "id": "f378103f",
   "metadata": {},
   "outputs": [
    {
     "data": {
      "text/plain": [
       "3195"
      ]
     },
     "metadata": {},
     "output_type": "display_data"
    },
    {
     "data": {
      "text/plain": [
       "2373"
      ]
     },
     "metadata": {},
     "output_type": "display_data"
    }
   ],
   "source": [
    "display(test_a['user_id'].nunique())\n",
    "display(test_b['user_id'].nunique())"
   ]
  },
  {
   "cell_type": "code",
   "execution_count": 34,
   "id": "f1c6a2c0",
   "metadata": {},
   "outputs": [
    {
     "data": {
      "text/plain": [
       "2279"
      ]
     },
     "metadata": {},
     "output_type": "display_data"
    },
    {
     "data": {
      "text/plain": [
       "771"
      ]
     },
     "metadata": {},
     "output_type": "display_data"
    }
   ],
   "source": [
    "display(test_a[~test_a['event_name'].isna()]['user_id'].nunique())\n",
    "display(test_b[~test_b['event_name'].isna()]['user_id'].nunique())"
   ]
  },
  {
   "cell_type": "markdown",
   "id": "d2cbab53",
   "metadata": {},
   "source": [
    "В группе \"А\" осталось 3195 участников, из которых 2279 совершили какой-либо действие в рассматриваемый период.\n",
    "<br>\n",
    "В группе \"В\" - 2373 участника, действия совершали только 771 из них."
   ]
  },
  {
   "cell_type": "code",
   "execution_count": 35,
   "id": "2f55b6e4",
   "metadata": {},
   "outputs": [],
   "source": [
    "a_pivot = test_a.pivot_table(index = 'user_id', columns = 'event_name', values = 'event_dt', aggfunc = 'count', fill_value = 0)\n",
    "b_pivot = test_b.pivot_table(index = 'user_id', columns = 'event_name', values = 'event_dt', aggfunc = 'count', fill_value = 0)"
   ]
  },
  {
   "cell_type": "code",
   "execution_count": 36,
   "id": "83c2ffb3",
   "metadata": {},
   "outputs": [],
   "source": [
    "a_pivot['activity'] = a_pivot.sum(axis = 1)\n",
    "b_pivot['activity'] = b_pivot.sum(axis = 1)\n",
    "a_grouped = test_a.groupby('user_id').agg({'details':'sum'})\n",
    "b_grouped = test_b.groupby('user_id').agg({'details':'sum'})\n",
    "a_pivot = pd.merge(a_pivot, a_grouped, on = 'user_id', how = 'inner')\n",
    "b_pivot = pd.merge(b_pivot, b_grouped, on = 'user_id', how = 'inner')"
   ]
  },
  {
   "cell_type": "markdown",
   "id": "b492c68b",
   "metadata": {},
   "source": [
    "Подготовили данные к анализу активности пользователей"
   ]
  },
  {
   "cell_type": "code",
   "execution_count": 37,
   "id": "5be39fbc",
   "metadata": {},
   "outputs": [
    {
     "data": {
      "text/html": [
       "<div>\n",
       "<style scoped>\n",
       "    .dataframe tbody tr th:only-of-type {\n",
       "        vertical-align: middle;\n",
       "    }\n",
       "\n",
       "    .dataframe tbody tr th {\n",
       "        vertical-align: top;\n",
       "    }\n",
       "\n",
       "    .dataframe thead th {\n",
       "        text-align: right;\n",
       "    }\n",
       "</style>\n",
       "<table border=\"1\" class=\"dataframe\">\n",
       "  <thead>\n",
       "    <tr style=\"text-align: right;\">\n",
       "      <th></th>\n",
       "      <th>login</th>\n",
       "      <th>product_cart</th>\n",
       "      <th>product_page</th>\n",
       "      <th>purchase</th>\n",
       "      <th>activity</th>\n",
       "      <th>details</th>\n",
       "    </tr>\n",
       "    <tr>\n",
       "      <th>user_id</th>\n",
       "      <th></th>\n",
       "      <th></th>\n",
       "      <th></th>\n",
       "      <th></th>\n",
       "      <th></th>\n",
       "      <th></th>\n",
       "    </tr>\n",
       "  </thead>\n",
       "  <tbody>\n",
       "    <tr>\n",
       "      <th>5FF8B6AB257B404F</th>\n",
       "      <td>0</td>\n",
       "      <td>0</td>\n",
       "      <td>0</td>\n",
       "      <td>1</td>\n",
       "      <td>1</td>\n",
       "      <td>4.99</td>\n",
       "    </tr>\n",
       "  </tbody>\n",
       "</table>\n",
       "</div>"
      ],
      "text/plain": [
       "                  login  product_cart  product_page  purchase  activity  \\\n",
       "user_id                                                                   \n",
       "5FF8B6AB257B404F      0             0             0         1         1   \n",
       "\n",
       "                  details  \n",
       "user_id                    \n",
       "5FF8B6AB257B404F     4.99  "
      ]
     },
     "execution_count": 37,
     "metadata": {},
     "output_type": "execute_result"
    }
   ],
   "source": [
    "b_pivot.query('login == 0')"
   ]
  },
  {
   "cell_type": "code",
   "execution_count": 38,
   "id": "afce8726",
   "metadata": {},
   "outputs": [],
   "source": [
    "b_pivot = b_pivot.query('login != 0')"
   ]
  },
  {
   "cell_type": "markdown",
   "id": "c692da01",
   "metadata": {},
   "source": [
    "Похоже на ошибку записи, уберем из анализа"
   ]
  },
  {
   "cell_type": "code",
   "execution_count": 39,
   "id": "a4ff51ab",
   "metadata": {},
   "outputs": [],
   "source": [
    "test_a['m_event'] = test_b['m_event'] = 0\n",
    "for index, m_event in marketing_events.iterrows():\n",
    "    test_a['m_event'].mask((test_a['event_dt'] >= m_event['start_dt'])&(test_a['event_dt'] <= m_event['finish_dt'])&\\\n",
    "                             ('EU' in m_event['regions'].split(sep = ',')),1,inplace = True)\n",
    "    test_b['m_event'].mask((test_b['event_dt'] >= m_event['start_dt'])&(test_b['event_dt'] <= m_event['finish_dt'])&\\\n",
    "                             ('EU' in m_event['regions'].split(sep = ',')),1,inplace = True)"
   ]
  },
  {
   "cell_type": "code",
   "execution_count": 40,
   "id": "8eb6f946",
   "metadata": {},
   "outputs": [
    {
     "data": {
      "text/plain": [
       "2101"
      ]
     },
     "metadata": {},
     "output_type": "display_data"
    },
    {
     "data": {
      "text/plain": [
       "279"
      ]
     },
     "metadata": {},
     "output_type": "display_data"
    }
   ],
   "source": [
    "display(test_a['m_event'].sum())\n",
    "display(test_b['m_event'].sum())"
   ]
  },
  {
   "cell_type": "markdown",
   "id": "932ee5e1",
   "metadata": {},
   "source": [
    "Добавили столбец с меткой о совпадении события пользователя с маркетинговой кампанией.\n",
    "<br>\n",
    "Таких записей 2101 в группе \"А\" и 279 в группе \"В\""
   ]
  },
  {
   "cell_type": "markdown",
   "id": "e4aee84d",
   "metadata": {},
   "source": [
    "**Сравнение групп**"
   ]
  },
  {
   "cell_type": "code",
   "execution_count": 41,
   "id": "c9206eca",
   "metadata": {},
   "outputs": [],
   "source": [
    "a_pivot['group'] = 'A'\n",
    "b_pivot['group'] = 'B'\n",
    "com_pivot = pd.concat([a_pivot, b_pivot])"
   ]
  },
  {
   "cell_type": "code",
   "execution_count": 42,
   "id": "a2849d51",
   "metadata": {
    "scrolled": false
   },
   "outputs": [
    {
     "data": {
      "image/png": "[encoded data removed]",
      "text/plain": [
       "<Figure size 640x480 with 1 Axes>"
      ]
     },
     "metadata": {},
     "output_type": "display_data"
    },
    {
     "data": {
      "image/png": "[encoded data removed]",
      "text/plain": [
       "<Figure size 640x480 with 1 Axes>"
      ]
     },
     "metadata": {},
     "output_type": "display_data"
    },
    {
     "data": {
      "image/png": "[encoded data removed]",
      "text/plain": [
       "<Figure size 640x480 with 1 Axes>"
      ]
     },
     "metadata": {},
     "output_type": "display_data"
    },
    {
     "data": {
      "image/png": "[encoded data removed]",
      "text/plain": [
       "<Figure size 640x480 with 1 Axes>"
      ]
     },
     "metadata": {},
     "output_type": "display_data"
    },
    {
     "data": {
      "image/png": "[encoded data removed]",
      "text/plain": [
       "<Figure size 640x480 with 1 Axes>"
      ]
     },
     "metadata": {},
     "output_type": "display_data"
    }
   ],
   "source": [
    "for i, action in enumerate(com_pivot.columns[:5]):\n",
    "    plt.figure(i)\n",
    "    plt.xlim(1, com_pivot[action].max())\n",
    "    plt.ylim(0, 800)\n",
    "    fig = sns.histplot(data = com_pivot, x = com_pivot[action], hue = 'group', bins = com_pivot[action].max(),\\\n",
    "                       multiple = 'dodge', shrink=.8)\n",
    "    fig.set(ylabel = None)"
   ]
  },
  {
   "cell_type": "code",
   "execution_count": 43,
   "id": "ea3c4fd6",
   "metadata": {},
   "outputs": [
    {
     "name": "stdout",
     "output_type": "stream",
     "text": [
      "Cобытие:  login\n",
      "Группа А: среди совершавших действие - 3.079, среди всех пользователей - 3.079\n",
      "Группа B: среди совершавших действие - 2.644, среди всех пользователей - 2.641\n",
      "Cобытие:  product_page\n",
      "Группа А: среди совершавших действие - 3.058, среди всех пользователей - 1.981\n",
      "Группа B: среди совершавших действие - 2.503, среди всех пользователей - 1.393\n",
      "Cобытие:  product_cart\n",
      "Группа А: среди совершавших действие - 3.082, среди всех пользователей - 0.928\n",
      "Группа B: среди совершавших действие - 2.533, среди всех пользователей - 0.703\n",
      "Cобытие:  purchase\n",
      "Группа А: среди совершавших действие - 3.004, среди всех пользователей - 0.968\n",
      "Группа B: среди совершавших действие - 2.425, среди всех пользователей - 0.689\n"
     ]
    }
   ],
   "source": [
    "for event in ['login', 'product_page', 'product_cart', 'purchase']:\n",
    "    a_event = test_a.query('event_name == @event').groupby('user_id').agg({'event_name':'count'})['event_name']\n",
    "    b_event = test_b.query('event_name == @event').groupby('user_id').agg({'event_name':'count'})['event_name']\n",
    "    print('Cобытие: ', event)\n",
    "    print('Группа А: среди совершавших действие - {0}, среди всех пользователей - {1}'.\\\n",
    "          format(a_event.mean().round(3), (a_event.sum()/test_a[~test_a['event_name'].isna()]['user_id'].nunique()).round(3)))\n",
    "    print('Группа B: среди совершавших действие - {0}, среди всех пользователей - {1}'.\\\n",
    "          format(b_event.mean().round(3), (b_event.sum()/test_b[~test_b['event_name'].isna()]['user_id'].nunique()).round(3)))"
   ]
  },
  {
   "cell_type": "markdown",
   "id": "84777d74",
   "metadata": {},
   "source": [
    "Можно отметить, что активность пользователей из контрольной группы заметно выше, чем в исследуемой.\n",
    "<br>\n",
    "Это проявляется на всех этапах - от количества логинов до количества покупок"
   ]
  },
  {
   "cell_type": "markdown",
   "id": "bc4aae32",
   "metadata": {},
   "source": [
    "**Оценка активности пользователей по дням**"
   ]
  },
  {
   "cell_type": "code",
   "execution_count": 44,
   "id": "8ae5b0cd",
   "metadata": {},
   "outputs": [],
   "source": [
    "test_a['event_dt'] = test_a['event_dt'].dt.normalize()\n",
    "test_b['event_dt'] = test_b['event_dt'].dt.normalize()"
   ]
  },
  {
   "cell_type": "code",
   "execution_count": 45,
   "id": "3d5a4218",
   "metadata": {},
   "outputs": [],
   "source": [
    "a_daily = test_a.groupby('event_dt').agg({'event_name':'count', 'm_event':'max'}).reset_index()\n",
    "b_daily = test_b.groupby('event_dt').agg({'event_name':'count', 'm_event':'max'}).reset_index()"
   ]
  },
  {
   "cell_type": "code",
   "execution_count": 46,
   "id": "ca54a199",
   "metadata": {},
   "outputs": [
    {
     "data": {
      "image/png": "[encoded data removed]",
      "text/plain": [
       "<Figure size 1100x500 with 1 Axes>"
      ]
     },
     "metadata": {},
     "output_type": "display_data"
    }
   ],
   "source": [
    "plt.rcParams[\"figure.figsize\"] = (11,5)\n",
    "clrs = ['blue' if x == 0 else 'red' for x in a_daily['m_event']]\n",
    "fig = plt.bar(x = a_daily['event_dt'], height = a_daily['event_name'], color = clrs);"
   ]
  },
  {
   "cell_type": "code",
   "execution_count": 47,
   "id": "75624b6c",
   "metadata": {},
   "outputs": [
    {
     "data": {
      "image/png": "[encoded data removed]",
      "text/plain": [
       "<Figure size 1100x500 with 1 Axes>"
      ]
     },
     "metadata": {},
     "output_type": "display_data"
    }
   ],
   "source": [
    "clrs = ['blue' if x == 0 else 'red' for x in b_daily['m_event']]\n",
    "fig = plt.bar(x = b_daily['event_dt'], height = b_daily['event_name'], color = clrs);"
   ]
  },
  {
   "cell_type": "markdown",
   "id": "ef477e06",
   "metadata": {},
   "source": [
    "На обоих графиках общей активности отмечается выраженная просадка в праздничные дни."
   ]
  },
  {
   "cell_type": "code",
   "execution_count": 90,
   "id": "cb87c10f",
   "metadata": {},
   "outputs": [
    {
     "data": {
      "image/png": "[encoded data removed]",
      "text/plain": [
       "<Figure size 1100x500 with 2 Axes>"
      ]
     },
     "metadata": {},
     "output_type": "display_data"
    }
   ],
   "source": [
    "cohort_a = test_a.pivot_table(index = 'first_date', columns = 'event_dt', values = 'event_name', aggfunc = 'count')\n",
    "fig, ax = plt.subplots()\n",
    "fig = sns.heatmap(cohort_a, linewidth = .5, linecolor = 'gray')\n",
    "x_dates = cohort_a.columns.strftime('%m-%d-%Y')\n",
    "y_dates = cohort_a.index.strftime('%m-%d-%Y')\n",
    "ax.set_xticklabels(labels = x_dates)\n",
    "ax.set_yticklabels(labels = y_dates)\n",
    "plt.title('Группа А')\n",
    "plt.xlabel('Event date')\n",
    "plt.ylabel('First date');"
   ]
  },
  {
   "cell_type": "code",
   "execution_count": 91,
   "id": "5316de9d",
   "metadata": {},
   "outputs": [
    {
     "data": {
      "image/png": "[encoded data removed]",
      "text/plain": [
       "<Figure size 1100x500 with 2 Axes>"
      ]
     },
     "metadata": {},
     "output_type": "display_data"
    }
   ],
   "source": [
    "cohort_b = test_b.pivot_table(index = 'first_date', columns = 'event_dt', values = 'event_name', aggfunc = 'count')\n",
    "fig, ax = plt.subplots()\n",
    "fig = sns.heatmap(cohort_b, linewidth = .5, linecolor = 'gray')\n",
    "x_dates = cohort_b.columns.strftime('%m-%d-%Y')\n",
    "y_dates = cohort_b.index.strftime('%m-%d-%Y')\n",
    "ax.set_xticklabels(labels = x_dates)\n",
    "ax.set_yticklabels(labels = y_dates)\n",
    "plt.title('Группа Б')\n",
    "plt.xlabel('Event date')\n",
    "plt.ylabel('First date');"
   ]
  },
  {
   "cell_type": "markdown",
   "id": "6d0b7223",
   "metadata": {},
   "source": [
    "По тепловой карте для контрольной группы можно видеть, что наибольшая активность у пользователей отмечается в первые дни после установки приложения, после чего плавно снижается.\n",
    "<br>\n",
    "В исследуемой группе относительная активность даже в первые дни ниже, кроме того, наблюдаются провалы для некоторых дней с полным отсутствием активности."
   ]
  },
  {
   "cell_type": "code",
   "execution_count": 50,
   "id": "c27acac6",
   "metadata": {},
   "outputs": [],
   "source": [
    "funnel_a = test_a.groupby('event_name').agg({'user_id':'nunique'})\\\n",
    "        .loc[['login', 'product_page', 'product_cart', 'purchase']].reset_index()\n",
    "funnel_b = test_b.groupby('event_name').agg({'user_id':'nunique'})\\\n",
    "        .loc[['login', 'product_page', 'product_cart', 'purchase']].reset_index()"
   ]
  },
  {
   "cell_type": "code",
   "execution_count": 51,
   "id": "90039c0d",
   "metadata": {},
   "outputs": [
    {
     "data": {
      "application/vnd.plotly.v1+json": {
       "config": {
        "plotlyServerURL": "https://plot.ly"
       },
       "data": [
        {
         "name": "Группа А",
         "textinfo": "value+percent initial",
         "type": "funnel",
         "x": [
          2279,
          1476,
          686,
          734
         ],
         "y": [
          "login",
          "product_page",
          "product_cart",
          "purchase"
         ]
        },
        {
         "name": "Группа В",
         "textinfo": "value+percent initial",
         "type": "funnel",
         "x": [
          770,
          429,
          214,
          219
         ],
         "y": [
          "login",
          "product_page",
          "product_cart",
          "purchase"
         ]
        }
       ],
       "layout": {
        "template": {
         "data": {
          "bar": [
           {
            "error_x": {
             "color": "#2a3f5f"
            },
            "error_y": {
             "color": "#2a3f5f"
            },
            "marker": {
             "line": {
              "color": "#E5ECF6",
              "width": 0.5
             },
             "pattern": {
              "fillmode": "overlay",
              "size": 10,
              "solidity": 0.2
             }
            },
            "type": "bar"
           }
          ],
          "barpolar": [
           {
            "marker": {
             "line": {
              "color": "#E5ECF6",
              "width": 0.5
             },
             "pattern": {
              "fillmode": "overlay",
              "size": 10,
              "solidity": 0.2
             }
            },
            "type": "barpolar"
           }
          ],
          "carpet": [
           {
            "aaxis": {
             "endlinecolor": "#2a3f5f",
             "gridcolor": "white",
             "linecolor": "white",
             "minorgridcolor": "white",
             "startlinecolor": "#2a3f5f"
            },
            "baxis": {
             "endlinecolor": "#2a3f5f",
             "gridcolor": "white",
             "linecolor": "white",
             "minorgridcolor": "white",
             "startlinecolor": "#2a3f5f"
            },
            "type": "carpet"
           }
          ],
          "choropleth": [
           {
            "colorbar": {
             "outlinewidth": 0,
             "ticks": ""
            },
            "type": "choropleth"
           }
          ],
          "contour": [
           {
            "colorbar": {
             "outlinewidth": 0,
             "ticks": ""
            },
            "colorscale": [
             [
              0,
              "#0d0887"
             ],
             [
              0.1111111111111111,
              "#46039f"
             ],
             [
              0.2222222222222222,
              "#7201a8"
             ],
             [
              0.3333333333333333,
              "#9c179e"
             ],
             [
              0.4444444444444444,
              "#bd3786"
             ],
             [
              0.5555555555555556,
              "#d8576b"
             ],
             [
              0.6666666666666666,
              "#ed7953"
             ],
             [
              0.7777777777777778,
              "#fb9f3a"
             ],
             [
              0.8888888888888888,
              "#fdca26"
             ],
             [
              1,
              "#f0f921"
             ]
            ],
            "type": "contour"
           }
          ],
          "contourcarpet": [
           {
            "colorbar": {
             "outlinewidth": 0,
             "ticks": ""
            },
            "type": "contourcarpet"
           }
          ],
          "heatmap": [
           {
            "colorbar": {
             "outlinewidth": 0,
             "ticks": ""
            },
            "colorscale": [
             [
              0,
              "#0d0887"
             ],
             [
              0.1111111111111111,
              "#46039f"
             ],
             [
              0.2222222222222222,
              "#7201a8"
             ],
             [
              0.3333333333333333,
              "#9c179e"
             ],
             [
              0.4444444444444444,
              "#bd3786"
             ],
             [
              0.5555555555555556,
              "#d8576b"
             ],
             [
              0.6666666666666666,
              "#ed7953"
             ],
             [
              0.7777777777777778,
              "#fb9f3a"
             ],
             [
              0.8888888888888888,
              "#fdca26"
             ],
             [
              1,
              "#f0f921"
             ]
            ],
            "type": "heatmap"
           }
          ],
          "heatmapgl": [
           {
            "colorbar": {
             "outlinewidth": 0,
             "ticks": ""
            },
            "colorscale": [
             [
              0,
              "#0d0887"
             ],
             [
              0.1111111111111111,
              "#46039f"
             ],
             [
              0.2222222222222222,
              "#7201a8"
             ],
             [
              0.3333333333333333,
              "#9c179e"
             ],
             [
              0.4444444444444444,
              "#bd3786"
             ],
             [
              0.5555555555555556,
              "#d8576b"
             ],
             [
              0.6666666666666666,
              "#ed7953"
             ],
             [
              0.7777777777777778,
              "#fb9f3a"
             ],
             [
              0.8888888888888888,
              "#fdca26"
             ],
             [
              1,
              "#f0f921"
             ]
            ],
            "type": "heatmapgl"
           }
          ],
          "histogram": [
           {
            "marker": {
             "pattern": {
              "fillmode": "overlay",
              "size": 10,
              "solidity": 0.2
             }
            },
            "type": "histogram"
           }
          ],
          "histogram2d": [
           {
            "colorbar": {
             "outlinewidth": 0,
             "ticks": ""
            },
            "colorscale": [
             [
              0,
              "#0d0887"
             ],
             [
              0.1111111111111111,
              "#46039f"
             ],
             [
              0.2222222222222222,
              "#7201a8"
             ],
             [
              0.3333333333333333,
              "#9c179e"
             ],
             [
              0.4444444444444444,
              "#bd3786"
             ],
             [
              0.5555555555555556,
              "#d8576b"
             ],
             [
              0.6666666666666666,
              "#ed7953"
             ],
             [
              0.7777777777777778,
              "#fb9f3a"
             ],
             [
              0.8888888888888888,
              "#fdca26"
             ],
             [
              1,
              "#f0f921"
             ]
            ],
            "type": "histogram2d"
           }
          ],
          "histogram2dcontour": [
           {
            "colorbar": {
             "outlinewidth": 0,
             "ticks": ""
            },
            "colorscale": [
             [
              0,
              "#0d0887"
             ],
             [
              0.1111111111111111,
              "#46039f"
             ],
             [
              0.2222222222222222,
              "#7201a8"
             ],
             [
              0.3333333333333333,
              "#9c179e"
             ],
             [
              0.4444444444444444,
              "#bd3786"
             ],
             [
              0.5555555555555556,
              "#d8576b"
             ],
             [
              0.6666666666666666,
              "#ed7953"
             ],
             [
              0.7777777777777778,
              "#fb9f3a"
             ],
             [
              0.8888888888888888,
              "#fdca26"
             ],
             [
              1,
              "#f0f921"
             ]
            ],
            "type": "histogram2dcontour"
           }
          ],
          "mesh3d": [
           {
            "colorbar": {
             "outlinewidth": 0,
             "ticks": ""
            },
            "type": "mesh3d"
           }
          ],
          "parcoords": [
           {
            "line": {
             "colorbar": {
              "outlinewidth": 0,
              "ticks": ""
             }
            },
            "type": "parcoords"
           }
          ],
          "pie": [
           {
            "automargin": true,
            "type": "pie"
           }
          ],
          "scatter": [
           {
            "marker": {
             "colorbar": {
              "outlinewidth": 0,
              "ticks": ""
             }
            },
            "type": "scatter"
           }
          ],
          "scatter3d": [
           {
            "line": {
             "colorbar": {
              "outlinewidth": 0,
              "ticks": ""
             }
            },
            "marker": {
             "colorbar": {
              "outlinewidth": 0,
              "ticks": ""
             }
            },
            "type": "scatter3d"
           }
          ],
          "scattercarpet": [
           {
            "marker": {
             "colorbar": {
              "outlinewidth": 0,
              "ticks": ""
             }
            },
            "type": "scattercarpet"
           }
          ],
          "scattergeo": [
           {
            "marker": {
             "colorbar": {
              "outlinewidth": 0,
              "ticks": ""
             }
            },
            "type": "scattergeo"
           }
          ],
          "scattergl": [
           {
            "marker": {
             "colorbar": {
              "outlinewidth": 0,
              "ticks": ""
             }
            },
            "type": "scattergl"
           }
          ],
          "scattermapbox": [
           {
            "marker": {
             "colorbar": {
              "outlinewidth": 0,
              "ticks": ""
             }
            },
            "type": "scattermapbox"
           }
          ],
          "scatterpolar": [
           {
            "marker": {
             "colorbar": {
              "outlinewidth": 0,
              "ticks": ""
             }
            },
            "type": "scatterpolar"
           }
          ],
          "scatterpolargl": [
           {
            "marker": {
             "colorbar": {
              "outlinewidth": 0,
              "ticks": ""
             }
            },
            "type": "scatterpolargl"
           }
          ],
          "scatterternary": [
           {
            "marker": {
             "colorbar": {
              "outlinewidth": 0,
              "ticks": ""
             }
            },
            "type": "scatterternary"
           }
          ],
          "surface": [
           {
            "colorbar": {
             "outlinewidth": 0,
             "ticks": ""
            },
            "colorscale": [
             [
              0,
              "#0d0887"
             ],
             [
              0.1111111111111111,
              "#46039f"
             ],
             [
              0.2222222222222222,
              "#7201a8"
             ],
             [
              0.3333333333333333,
              "#9c179e"
             ],
             [
              0.4444444444444444,
              "#bd3786"
             ],
             [
              0.5555555555555556,
              "#d8576b"
             ],
             [
              0.6666666666666666,
              "#ed7953"
             ],
             [
              0.7777777777777778,
              "#fb9f3a"
             ],
             [
              0.8888888888888888,
              "#fdca26"
             ],
             [
              1,
              "#f0f921"
             ]
            ],
            "type": "surface"
           }
          ],
          "table": [
           {
            "cells": {
             "fill": {
              "color": "#EBF0F8"
             },
             "line": {
              "color": "white"
             }
            },
            "header": {
             "fill": {
              "color": "#C8D4E3"
             },
             "line": {
              "color": "white"
             }
            },
            "type": "table"
           }
          ]
         },
         "layout": {
          "annotationdefaults": {
           "arrowcolor": "#2a3f5f",
           "arrowhead": 0,
           "arrowwidth": 1
          },
          "autotypenumbers": "strict",
          "coloraxis": {
           "colorbar": {
            "outlinewidth": 0,
            "ticks": ""
           }
          },
          "colorscale": {
           "diverging": [
            [
             0,
             "#8e0152"
            ],
            [
             0.1,
             "#c51b7d"
            ],
            [
             0.2,
             "#de77ae"
            ],
            [
             0.3,
             "#f1b6da"
            ],
            [
             0.4,
             "#fde0ef"
            ],
            [
             0.5,
             "#f7f7f7"
            ],
            [
             0.6,
             "#e6f5d0"
            ],
            [
             0.7,
             "#b8e186"
            ],
            [
             0.8,
             "#7fbc41"
            ],
            [
             0.9,
             "#4d9221"
            ],
            [
             1,
             "#276419"
            ]
           ],
           "sequential": [
            [
             0,
             "#0d0887"
            ],
            [
             0.1111111111111111,
             "#46039f"
            ],
            [
             0.2222222222222222,
             "#7201a8"
            ],
            [
             0.3333333333333333,
             "#9c179e"
            ],
            [
             0.4444444444444444,
             "#bd3786"
            ],
            [
             0.5555555555555556,
             "#d8576b"
            ],
            [
             0.6666666666666666,
             "#ed7953"
            ],
            [
             0.7777777777777778,
             "#fb9f3a"
            ],
            [
             0.8888888888888888,
             "#fdca26"
            ],
            [
             1,
             "#f0f921"
            ]
           ],
           "sequentialminus": [
            [
             0,
             "#0d0887"
            ],
            [
             0.1111111111111111,
             "#46039f"
            ],
            [
             0.2222222222222222,
             "#7201a8"
            ],
            [
             0.3333333333333333,
             "#9c179e"
            ],
            [
             0.4444444444444444,
             "#bd3786"
            ],
            [
             0.5555555555555556,
             "#d8576b"
            ],
            [
             0.6666666666666666,
             "#ed7953"
            ],
            [
             0.7777777777777778,
             "#fb9f3a"
            ],
            [
             0.8888888888888888,
             "#fdca26"
            ],
            [
             1,
             "#f0f921"
            ]
           ]
          },
          "colorway": [
           "#636efa",
           "#EF553B",
           "#00cc96",
           "#ab63fa",
           "#FFA15A",
           "#19d3f3",
           "#FF6692",
           "#B6E880",
           "#FF97FF",
           "#FECB52"
          ],
          "font": {
           "color": "#2a3f5f"
          },
          "geo": {
           "bgcolor": "white",
           "lakecolor": "white",
           "landcolor": "#E5ECF6",
           "showlakes": true,
           "showland": true,
           "subunitcolor": "white"
          },
          "hoverlabel": {
           "align": "left"
          },
          "hovermode": "closest",
          "mapbox": {
           "style": "light"
          },
          "paper_bgcolor": "white",
          "plot_bgcolor": "#E5ECF6",
          "polar": {
           "angularaxis": {
            "gridcolor": "white",
            "linecolor": "white",
            "ticks": ""
           },
           "bgcolor": "#E5ECF6",
           "radialaxis": {
            "gridcolor": "white",
            "linecolor": "white",
            "ticks": ""
           }
          },
          "scene": {
           "xaxis": {
            "backgroundcolor": "#E5ECF6",
            "gridcolor": "white",
            "gridwidth": 2,
            "linecolor": "white",
            "showbackground": true,
            "ticks": "",
            "zerolinecolor": "white"
           },
           "yaxis": {
            "backgroundcolor": "#E5ECF6",
            "gridcolor": "white",
            "gridwidth": 2,
            "linecolor": "white",
            "showbackground": true,
            "ticks": "",
            "zerolinecolor": "white"
           },
           "zaxis": {
            "backgroundcolor": "#E5ECF6",
            "gridcolor": "white",
            "gridwidth": 2,
            "linecolor": "white",
            "showbackground": true,
            "ticks": "",
            "zerolinecolor": "white"
           }
          },
          "shapedefaults": {
           "line": {
            "color": "#2a3f5f"
           }
          },
          "ternary": {
           "aaxis": {
            "gridcolor": "white",
            "linecolor": "white",
            "ticks": ""
           },
           "baxis": {
            "gridcolor": "white",
            "linecolor": "white",
            "ticks": ""
           },
           "bgcolor": "#E5ECF6",
           "caxis": {
            "gridcolor": "white",
            "linecolor": "white",
            "ticks": ""
           }
          },
          "title": {
           "x": 0.05
          },
          "xaxis": {
           "automargin": true,
           "gridcolor": "white",
           "linecolor": "white",
           "ticks": "",
           "title": {
            "standoff": 15
           },
           "zerolinecolor": "white",
           "zerolinewidth": 2
          },
          "yaxis": {
           "automargin": true,
           "gridcolor": "white",
           "linecolor": "white",
           "ticks": "",
           "title": {
            "standoff": 15
           },
           "zerolinecolor": "white",
           "zerolinewidth": 2
          }
         }
        }
       }
      },
      "text/html": [
       "<div>                            <div id=\"b8b19785-cc0b-4621-8162-f7ee2569ffe0\" class=\"plotly-graph-div\" style=\"height:525px; width:100%;\"></div>            <script type=\"text/javascript\">                require([\"plotly\"], function(Plotly) {                    window.PLOTLYENV=window.PLOTLYENV || {};                                    if (document.getElementById(\"b8b19785-cc0b-4621-8162-f7ee2569ffe0\")) {                    Plotly.newPlot(                        \"b8b19785-cc0b-4621-8162-f7ee2569ffe0\",                        [{\"name\":\"\\u0413\\u0440\\u0443\\u043f\\u043f\\u0430 \\u0410\",\"textinfo\":\"value+percent initial\",\"x\":[2279,1476,686,734],\"y\":[\"login\",\"product_page\",\"product_cart\",\"purchase\"],\"type\":\"funnel\"},{\"name\":\"\\u0413\\u0440\\u0443\\u043f\\u043f\\u0430 \\u0412\",\"textinfo\":\"value+percent initial\",\"x\":[770,429,214,219],\"y\":[\"login\",\"product_page\",\"product_cart\",\"purchase\"],\"type\":\"funnel\"}],                        {\"template\":{\"data\":{\"bar\":[{\"error_x\":{\"color\":\"#2a3f5f\"},\"error_y\":{\"color\":\"#2a3f5f\"},\"marker\":{\"line\":{\"color\":\"#E5ECF6\",\"width\":0.5},\"pattern\":{\"fillmode\":\"overlay\",\"size\":10,\"solidity\":0.2}},\"type\":\"bar\"}],\"barpolar\":[{\"marker\":{\"line\":{\"color\":\"#E5ECF6\",\"width\":0.5},\"pattern\":{\"fillmode\":\"overlay\",\"size\":10,\"solidity\":0.2}},\"type\":\"barpolar\"}],\"carpet\":[{\"aaxis\":{\"endlinecolor\":\"#2a3f5f\",\"gridcolor\":\"white\",\"linecolor\":\"white\",\"minorgridcolor\":\"white\",\"startlinecolor\":\"#2a3f5f\"},\"baxis\":{\"endlinecolor\":\"#2a3f5f\",\"gridcolor\":\"white\",\"linecolor\":\"white\",\"minorgridcolor\":\"white\",\"startlinecolor\":\"#2a3f5f\"},\"type\":\"carpet\"}],\"choropleth\":[{\"colorbar\":{\"outlinewidth\":0,\"ticks\":\"\"},\"type\":\"choropleth\"}],\"contour\":[{\"colorbar\":{\"outlinewidth\":0,\"ticks\":\"\"},\"colorscale\":[[0.0,\"#0d0887\"],[0.1111111111111111,\"#46039f\"],[0.2222222222222222,\"#7201a8\"],[0.3333333333333333,\"#9c179e\"],[0.4444444444444444,\"#bd3786\"],[0.5555555555555556,\"#d8576b\"],[0.6666666666666666,\"#ed7953\"],[0.7777777777777778,\"#fb9f3a\"],[0.8888888888888888,\"#fdca26\"],[1.0,\"#f0f921\"]],\"type\":\"contour\"}],\"contourcarpet\":[{\"colorbar\":{\"outlinewidth\":0,\"ticks\":\"\"},\"type\":\"contourcarpet\"}],\"heatmap\":[{\"colorbar\":{\"outlinewidth\":0,\"ticks\":\"\"},\"colorscale\":[[0.0,\"#0d0887\"],[0.1111111111111111,\"#46039f\"],[0.2222222222222222,\"#7201a8\"],[0.3333333333333333,\"#9c179e\"],[0.4444444444444444,\"#bd3786\"],[0.5555555555555556,\"#d8576b\"],[0.6666666666666666,\"#ed7953\"],[0.7777777777777778,\"#fb9f3a\"],[0.8888888888888888,\"#fdca26\"],[1.0,\"#f0f921\"]],\"type\":\"heatmap\"}],\"heatmapgl\":[{\"colorbar\":{\"outlinewidth\":0,\"ticks\":\"\"},\"colorscale\":[[0.0,\"#0d0887\"],[0.1111111111111111,\"#46039f\"],[0.2222222222222222,\"#7201a8\"],[0.3333333333333333,\"#9c179e\"],[0.4444444444444444,\"#bd3786\"],[0.5555555555555556,\"#d8576b\"],[0.6666666666666666,\"#ed7953\"],[0.7777777777777778,\"#fb9f3a\"],[0.8888888888888888,\"#fdca26\"],[1.0,\"#f0f921\"]],\"type\":\"heatmapgl\"}],\"histogram\":[{\"marker\":{\"pattern\":{\"fillmode\":\"overlay\",\"size\":10,\"solidity\":0.2}},\"type\":\"histogram\"}],\"histogram2d\":[{\"colorbar\":{\"outlinewidth\":0,\"ticks\":\"\"},\"colorscale\":[[0.0,\"#0d0887\"],[0.1111111111111111,\"#46039f\"],[0.2222222222222222,\"#7201a8\"],[0.3333333333333333,\"#9c179e\"],[0.4444444444444444,\"#bd3786\"],[0.5555555555555556,\"#d8576b\"],[0.6666666666666666,\"#ed7953\"],[0.7777777777777778,\"#fb9f3a\"],[0.8888888888888888,\"#fdca26\"],[1.0,\"#f0f921\"]],\"type\":\"histogram2d\"}],\"histogram2dcontour\":[{\"colorbar\":{\"outlinewidth\":0,\"ticks\":\"\"},\"colorscale\":[[0.0,\"#0d0887\"],[0.1111111111111111,\"#46039f\"],[0.2222222222222222,\"#7201a8\"],[0.3333333333333333,\"#9c179e\"],[0.4444444444444444,\"#bd3786\"],[0.5555555555555556,\"#d8576b\"],[0.6666666666666666,\"#ed7953\"],[0.7777777777777778,\"#fb9f3a\"],[0.8888888888888888,\"#fdca26\"],[1.0,\"#f0f921\"]],\"type\":\"histogram2dcontour\"}],\"mesh3d\":[{\"colorbar\":{\"outlinewidth\":0,\"ticks\":\"\"},\"type\":\"mesh3d\"}],\"parcoords\":[{\"line\":{\"colorbar\":{\"outlinewidth\":0,\"ticks\":\"\"}},\"type\":\"parcoords\"}],\"pie\":[{\"automargin\":true,\"type\":\"pie\"}],\"scatter\":[{\"marker\":{\"colorbar\":{\"outlinewidth\":0,\"ticks\":\"\"}},\"type\":\"scatter\"}],\"scatter3d\":[{\"line\":{\"colorbar\":{\"outlinewidth\":0,\"ticks\":\"\"}},\"marker\":{\"colorbar\":{\"outlinewidth\":0,\"ticks\":\"\"}},\"type\":\"scatter3d\"}],\"scattercarpet\":[{\"marker\":{\"colorbar\":{\"outlinewidth\":0,\"ticks\":\"\"}},\"type\":\"scattercarpet\"}],\"scattergeo\":[{\"marker\":{\"colorbar\":{\"outlinewidth\":0,\"ticks\":\"\"}},\"type\":\"scattergeo\"}],\"scattergl\":[{\"marker\":{\"colorbar\":{\"outlinewidth\":0,\"ticks\":\"\"}},\"type\":\"scattergl\"}],\"scattermapbox\":[{\"marker\":{\"colorbar\":{\"outlinewidth\":0,\"ticks\":\"\"}},\"type\":\"scattermapbox\"}],\"scatterpolar\":[{\"marker\":{\"colorbar\":{\"outlinewidth\":0,\"ticks\":\"\"}},\"type\":\"scatterpolar\"}],\"scatterpolargl\":[{\"marker\":{\"colorbar\":{\"outlinewidth\":0,\"ticks\":\"\"}},\"type\":\"scatterpolargl\"}],\"scatterternary\":[{\"marker\":{\"colorbar\":{\"outlinewidth\":0,\"ticks\":\"\"}},\"type\":\"scatterternary\"}],\"surface\":[{\"colorbar\":{\"outlinewidth\":0,\"ticks\":\"\"},\"colorscale\":[[0.0,\"#0d0887\"],[0.1111111111111111,\"#46039f\"],[0.2222222222222222,\"#7201a8\"],[0.3333333333333333,\"#9c179e\"],[0.4444444444444444,\"#bd3786\"],[0.5555555555555556,\"#d8576b\"],[0.6666666666666666,\"#ed7953\"],[0.7777777777777778,\"#fb9f3a\"],[0.8888888888888888,\"#fdca26\"],[1.0,\"#f0f921\"]],\"type\":\"surface\"}],\"table\":[{\"cells\":{\"fill\":{\"color\":\"#EBF0F8\"},\"line\":{\"color\":\"white\"}},\"header\":{\"fill\":{\"color\":\"#C8D4E3\"},\"line\":{\"color\":\"white\"}},\"type\":\"table\"}]},\"layout\":{\"annotationdefaults\":{\"arrowcolor\":\"#2a3f5f\",\"arrowhead\":0,\"arrowwidth\":1},\"autotypenumbers\":\"strict\",\"coloraxis\":{\"colorbar\":{\"outlinewidth\":0,\"ticks\":\"\"}},\"colorscale\":{\"diverging\":[[0,\"#8e0152\"],[0.1,\"#c51b7d\"],[0.2,\"#de77ae\"],[0.3,\"#f1b6da\"],[0.4,\"#fde0ef\"],[0.5,\"#f7f7f7\"],[0.6,\"#e6f5d0\"],[0.7,\"#b8e186\"],[0.8,\"#7fbc41\"],[0.9,\"#4d9221\"],[1,\"#276419\"]],\"sequential\":[[0.0,\"#0d0887\"],[0.1111111111111111,\"#46039f\"],[0.2222222222222222,\"#7201a8\"],[0.3333333333333333,\"#9c179e\"],[0.4444444444444444,\"#bd3786\"],[0.5555555555555556,\"#d8576b\"],[0.6666666666666666,\"#ed7953\"],[0.7777777777777778,\"#fb9f3a\"],[0.8888888888888888,\"#fdca26\"],[1.0,\"#f0f921\"]],\"sequentialminus\":[[0.0,\"#0d0887\"],[0.1111111111111111,\"#46039f\"],[0.2222222222222222,\"#7201a8\"],[0.3333333333333333,\"#9c179e\"],[0.4444444444444444,\"#bd3786\"],[0.5555555555555556,\"#d8576b\"],[0.6666666666666666,\"#ed7953\"],[0.7777777777777778,\"#fb9f3a\"],[0.8888888888888888,\"#fdca26\"],[1.0,\"#f0f921\"]]},\"colorway\":[\"#636efa\",\"#EF553B\",\"#00cc96\",\"#ab63fa\",\"#FFA15A\",\"#19d3f3\",\"#FF6692\",\"#B6E880\",\"#FF97FF\",\"#FECB52\"],\"font\":{\"color\":\"#2a3f5f\"},\"geo\":{\"bgcolor\":\"white\",\"lakecolor\":\"white\",\"landcolor\":\"#E5ECF6\",\"showlakes\":true,\"showland\":true,\"subunitcolor\":\"white\"},\"hoverlabel\":{\"align\":\"left\"},\"hovermode\":\"closest\",\"mapbox\":{\"style\":\"light\"},\"paper_bgcolor\":\"white\",\"plot_bgcolor\":\"#E5ECF6\",\"polar\":{\"angularaxis\":{\"gridcolor\":\"white\",\"linecolor\":\"white\",\"ticks\":\"\"},\"bgcolor\":\"#E5ECF6\",\"radialaxis\":{\"gridcolor\":\"white\",\"linecolor\":\"white\",\"ticks\":\"\"}},\"scene\":{\"xaxis\":{\"backgroundcolor\":\"#E5ECF6\",\"gridcolor\":\"white\",\"gridwidth\":2,\"linecolor\":\"white\",\"showbackground\":true,\"ticks\":\"\",\"zerolinecolor\":\"white\"},\"yaxis\":{\"backgroundcolor\":\"#E5ECF6\",\"gridcolor\":\"white\",\"gridwidth\":2,\"linecolor\":\"white\",\"showbackground\":true,\"ticks\":\"\",\"zerolinecolor\":\"white\"},\"zaxis\":{\"backgroundcolor\":\"#E5ECF6\",\"gridcolor\":\"white\",\"gridwidth\":2,\"linecolor\":\"white\",\"showbackground\":true,\"ticks\":\"\",\"zerolinecolor\":\"white\"}},\"shapedefaults\":{\"line\":{\"color\":\"#2a3f5f\"}},\"ternary\":{\"aaxis\":{\"gridcolor\":\"white\",\"linecolor\":\"white\",\"ticks\":\"\"},\"baxis\":{\"gridcolor\":\"white\",\"linecolor\":\"white\",\"ticks\":\"\"},\"bgcolor\":\"#E5ECF6\",\"caxis\":{\"gridcolor\":\"white\",\"linecolor\":\"white\",\"ticks\":\"\"}},\"title\":{\"x\":0.05},\"xaxis\":{\"automargin\":true,\"gridcolor\":\"white\",\"linecolor\":\"white\",\"ticks\":\"\",\"title\":{\"standoff\":15},\"zerolinecolor\":\"white\",\"zerolinewidth\":2},\"yaxis\":{\"automargin\":true,\"gridcolor\":\"white\",\"linecolor\":\"white\",\"ticks\":\"\",\"title\":{\"standoff\":15},\"zerolinecolor\":\"white\",\"zerolinewidth\":2}}}},                        {\"responsive\": true}                    ).then(function(){\n",
       "                            \n",
       "var gd = document.getElementById('b8b19785-cc0b-4621-8162-f7ee2569ffe0');\n",
       "var x = new MutationObserver(function (mutations, observer) {{\n",
       "        var display = window.getComputedStyle(gd).display;\n",
       "        if (!display || display === 'none') {{\n",
       "            console.log([gd, 'removed!']);\n",
       "            Plotly.purge(gd);\n",
       "            observer.disconnect();\n",
       "        }}\n",
       "}});\n",
       "\n",
       "// Listen for the removal of the full notebook cells\n",
       "var notebookContainer = gd.closest('#notebook-container');\n",
       "if (notebookContainer) {{\n",
       "    x.observe(notebookContainer, {childList: true});\n",
       "}}\n",
       "\n",
       "// Listen for the clearing of the current output cell\n",
       "var outputEl = gd.closest('.output');\n",
       "if (outputEl) {{\n",
       "    x.observe(outputEl, {childList: true});\n",
       "}}\n",
       "\n",
       "                        })                };                });            </script>        </div>"
      ]
     },
     "metadata": {},
     "output_type": "display_data"
    }
   ],
   "source": [
    "fig = go.Figure()\n",
    "fig.add_trace(go.Funnel(name = 'Группа А', y = funnel_a['event_name'], x = funnel_a['user_id'], textinfo = \"value+percent initial\"))\n",
    "fig.add_trace(go.Funnel(name = 'Группа В', y = funnel_b['event_name'], x = funnel_b['user_id'], textinfo = \"value+percent initial\"))"
   ]
  },
  {
   "cell_type": "markdown",
   "id": "ee9514e3",
   "metadata": {},
   "source": [
    "Продуктовая воронка показывает то же самое, что и расчеты: конверсия в каждый следующий шаг для исследуемой группы хуже, чем для контрольной."
   ]
  },
  {
   "cell_type": "markdown",
   "id": "33da05cf",
   "metadata": {},
   "source": [
    "Оценка результатов\n",
    "---"
   ]
  },
  {
   "cell_type": "markdown",
   "id": "d6fbf396",
   "metadata": {},
   "source": [
    "**Проверка конверсии z-критерием**"
   ]
  },
  {
   "cell_type": "code",
   "execution_count": 52,
   "id": "b2f9c1db",
   "metadata": {},
   "outputs": [
    {
     "name": "stdout",
     "output_type": "stream",
     "text": [
      "Для события product_page p_value = 0.000\n",
      "Для события product_cart p_value = 0.225\n",
      "Для события purchase p_value = 0.051\n"
     ]
    }
   ],
   "source": [
    "z_test = funnel_a.merge(funnel_b, on = 'event_name', suffixes = ('_a', '_b'))\n",
    "for index, action in z_test.iloc[1:].iterrows():\n",
    "    p1 = z_test[z_test['event_name'] == action['event_name']]['user_id_a'][index] /\\\n",
    "        z_test[z_test['event_name'] == 'login']['user_id_a'][0]\n",
    "    p2 = z_test[z_test['event_name'] == action['event_name']]['user_id_b'][index] /\\\n",
    "        z_test[z_test['event_name'] == 'login']['user_id_b'][0]\n",
    "    p_combined = z_test[z_test['event_name'] == action['event_name']].sum(axis = 1)[index] /\\\n",
    "        z_test[z_test['event_name'] == 'login'].sum(axis = 1)[0]\n",
    "    diff = p1 - p2\n",
    "    z_value = diff / mth.sqrt(p_combined * (1 - p_combined) * (1/z_test[z_test['event_name'] == 'login']['user_id_a'][0]\\\n",
    "                                            + 1/z_test[z_test['event_name'] == 'login']['user_id_b'][0]))\n",
    "    distr = st.norm(0, 1)\n",
    "    p_value = (1 - distr.cdf(abs(z_value))) * 2\n",
    "    print('Для события {0} p_value = {1:.3f}'.format(action['event_name'], p_value))"
   ]
  },
  {
   "cell_type": "markdown",
   "id": "23fb4745",
   "metadata": {},
   "source": [
    "Доли в основной и контрольной группах различаются, хотя уровень значимости для покупок находится на минимальном значении.\n",
    "<br>\n",
    "Из-за возможности покупок в 1 клик доли просмотров корзины нас мало интересуют, тем не менее, даже там исследуемая группа отстает от контрольной, пусть и не так заметно."
   ]
  },
  {
   "cell_type": "markdown",
   "id": "06e14c82",
   "metadata": {},
   "source": [
    "**Общий вывод**"
   ]
  },
  {
   "cell_type": "markdown",
   "id": "5f0a0b5c",
   "metadata": {},
   "source": [
    "В первую очередь, следует отметить неудачное время проведения эксперимента - он пришелся на новогодние праздники и на графике активности можно видеть резкий провал в это время. Кроме того под вопросом корректность сбора данных - в обоих группах много пользователей, не совершивших ни одного действия\n",
    "<br>\n",
    "Тем не менее, по результатам оценки действий пользователей, попавших в анализируемые данные, можно сделать вывод о неэффективности новой системы рекомендаций - конверсия в исследуемой группе заметно ниже, чем в контрольной."
   ]
  },
  {
   "cell_type": "code",
   "execution_count": null,
   "id": "a8a53cab",
   "metadata": {},
   "outputs": [],
   "source": []
  }
 ],
 "metadata": {
  "kernelspec": {
   "display_name": "Python 3 (ipykernel)",
   "language": "python",
   "name": "python3"
  },
  "language_info": {
   "codemirror_mode": {
    "name": "ipython",
    "version": 3
   },
   "file_extension": ".py",
   "mimetype": "text/x-python",
   "name": "python",
   "nbconvert_exporter": "python",
   "pygments_lexer": "ipython3",
   "version": "3.9.13"
  }
 },
 "nbformat": 4,
 "nbformat_minor": 5
}
